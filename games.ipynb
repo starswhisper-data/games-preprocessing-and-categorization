{
 "cells": [
  {
   "cell_type": "markdown",
   "id": "7277fbc5-2de3-4084-bd43-811c1a6bba86",
   "metadata": {},
   "source": [
    "# Исследование игровой индустрии 2000-2013 годов\n",
    "\n",
    "- Автор: Лазарева Елизавета Сергеевна\n",
    "- Дата: 25.02.2025"
   ]
  },
  {
   "cell_type": "markdown",
   "id": "1cf35222-923a-490a-a13b-7cc276511cc0",
   "metadata": {},
   "source": [
    "### Цели и задачи проекта\n",
    "\n",
    "<font color='#777778'>Цель проекта - сделать обзор игровых платформ, изучить объёмы продаж игр разных жанров и региональные предпочтения игроков с акцентом на игры в жанре RPG. \n",
    "\n",
    "Задачи проекта: \n",
    "* Проверка ошибок в данных и их предобработка\n",
    "* Фильтрация данных\n",
    "* Категоризаци данных</font>"
   ]
  },
  {
   "cell_type": "markdown",
   "id": "da3cf392-dd41-4397-9cf7-8195820b908d",
   "metadata": {},
   "source": [
    "### Описание данных\n",
    "\n",
    "<font color='#777778'>Данные /datasets/new_games.csv содержат информацию о продажах игр разных жанров и платформ, а также пользовательские и экспертные оценки игр:\n",
    "* `Name` — название игры.\n",
    "* `Platform` — название платформы.\n",
    "* `Year of Release` — год выпуска игры.\n",
    "* `Genre` — жанр игры.\n",
    "* `NA sales` — продажи в Северной Америке (в миллионах проданных копий).\n",
    "* `EU sales` — продажи в Европе (в миллионах проданных копий).\n",
    "* `JP sales` — продажи в Японии (в миллионах проданных копий).\n",
    "* `Other sales` — продажи в других странах (в миллионах проданных копий).\n",
    "* `Critic Score` — оценка критиков (от 0 до 100).\n",
    "* `User Score` — оценка пользователей (от 0 до 10).\n",
    "* `Rating` — рейтинг организации ESRB.</font>"
   ]
  },
  {
   "cell_type": "markdown",
   "id": "fc9e298f-90ad-4456-ae28-32e87f38a7d7",
   "metadata": {},
   "source": [
    "### Содержимое проекта\n",
    "\n",
    "\n",
    "\n",
    "<font color='#777778'>   \n",
    "    \n",
    "1. Загрузка данных и знакомство с ними\n",
    "    \n",
    "2. Проверка ошибок в данных и их предобработка  \n",
    "    \n",
    "3. Фильтрация данных\n",
    "       \n",
    "4. Категоризация данных\n",
    "      \n",
    "5. Итоговый вывод</font>\n",
    "\n",
    "\n",
    "---"
   ]
  },
  {
   "cell_type": "markdown",
   "id": "d9f9cc5d-1cb7-4930-bc27-1a694c996b43",
   "metadata": {},
   "source": [
    "## 1. Загрузка данных и знакомство с ними¶"
   ]
  },
  {
   "cell_type": "markdown",
   "id": "bd7754db-56ef-4141-a11e-0acd34a34304",
   "metadata": {},
   "source": [
    "Загрузим необходимые библиотеки для анализа данных и данные из датасета `new_games.csv`. Затем выведем основную информацию о данных с помощью метода `info()` и первые строки датафрейма."
   ]
  },
  {
   "cell_type": "code",
   "execution_count": 7,
   "id": "317347a7-db7f-43b0-ba41-f2f56b918880",
   "metadata": {},
   "outputs": [],
   "source": [
    "#Загрузим библиотеку pandas\n",
    "import pandas as pd"
   ]
  },
  {
   "cell_type": "code",
   "execution_count": 8,
   "id": "79741278-dc57-4928-8044-6bd388982175",
   "metadata": {},
   "outputs": [],
   "source": [
    "#Загрузим данные датасета /datasets/new_games.csv\n",
    "games = pd.read_csv('https://code.s3.yandex.net/datasets/new_games.csv')"
   ]
  },
  {
   "cell_type": "code",
   "execution_count": 9,
   "id": "85bae92c-33bd-4885-9a96-de22d70ce72c",
   "metadata": {},
   "outputs": [
    {
     "data": {
      "text/html": [
       "<div>\n",
       "<style scoped>\n",
       "    .dataframe tbody tr th:only-of-type {\n",
       "        vertical-align: middle;\n",
       "    }\n",
       "\n",
       "    .dataframe tbody tr th {\n",
       "        vertical-align: top;\n",
       "    }\n",
       "\n",
       "    .dataframe thead th {\n",
       "        text-align: right;\n",
       "    }\n",
       "</style>\n",
       "<table border=\"1\" class=\"dataframe\">\n",
       "  <thead>\n",
       "    <tr style=\"text-align: right;\">\n",
       "      <th></th>\n",
       "      <th>Name</th>\n",
       "      <th>Platform</th>\n",
       "      <th>Year of Release</th>\n",
       "      <th>Genre</th>\n",
       "      <th>NA sales</th>\n",
       "      <th>EU sales</th>\n",
       "      <th>JP sales</th>\n",
       "      <th>Other sales</th>\n",
       "      <th>Critic Score</th>\n",
       "      <th>User Score</th>\n",
       "      <th>Rating</th>\n",
       "    </tr>\n",
       "  </thead>\n",
       "  <tbody>\n",
       "    <tr>\n",
       "      <th>0</th>\n",
       "      <td>Wii Sports</td>\n",
       "      <td>Wii</td>\n",
       "      <td>2006.0</td>\n",
       "      <td>Sports</td>\n",
       "      <td>41.36</td>\n",
       "      <td>28.96</td>\n",
       "      <td>3.77</td>\n",
       "      <td>8.45</td>\n",
       "      <td>76.0</td>\n",
       "      <td>8</td>\n",
       "      <td>E</td>\n",
       "    </tr>\n",
       "    <tr>\n",
       "      <th>1</th>\n",
       "      <td>Super Mario Bros.</td>\n",
       "      <td>NES</td>\n",
       "      <td>1985.0</td>\n",
       "      <td>Platform</td>\n",
       "      <td>29.08</td>\n",
       "      <td>3.58</td>\n",
       "      <td>6.81</td>\n",
       "      <td>0.77</td>\n",
       "      <td>NaN</td>\n",
       "      <td>NaN</td>\n",
       "      <td>NaN</td>\n",
       "    </tr>\n",
       "    <tr>\n",
       "      <th>2</th>\n",
       "      <td>Mario Kart Wii</td>\n",
       "      <td>Wii</td>\n",
       "      <td>2008.0</td>\n",
       "      <td>Racing</td>\n",
       "      <td>15.68</td>\n",
       "      <td>12.76</td>\n",
       "      <td>3.79</td>\n",
       "      <td>3.29</td>\n",
       "      <td>82.0</td>\n",
       "      <td>8.3</td>\n",
       "      <td>E</td>\n",
       "    </tr>\n",
       "    <tr>\n",
       "      <th>3</th>\n",
       "      <td>Wii Sports Resort</td>\n",
       "      <td>Wii</td>\n",
       "      <td>2009.0</td>\n",
       "      <td>Sports</td>\n",
       "      <td>15.61</td>\n",
       "      <td>10.93</td>\n",
       "      <td>3.28</td>\n",
       "      <td>2.95</td>\n",
       "      <td>80.0</td>\n",
       "      <td>8</td>\n",
       "      <td>E</td>\n",
       "    </tr>\n",
       "    <tr>\n",
       "      <th>4</th>\n",
       "      <td>Pokemon Red/Pokemon Blue</td>\n",
       "      <td>GB</td>\n",
       "      <td>1996.0</td>\n",
       "      <td>Role-Playing</td>\n",
       "      <td>11.27</td>\n",
       "      <td>8.89</td>\n",
       "      <td>10.22</td>\n",
       "      <td>1.00</td>\n",
       "      <td>NaN</td>\n",
       "      <td>NaN</td>\n",
       "      <td>NaN</td>\n",
       "    </tr>\n",
       "  </tbody>\n",
       "</table>\n",
       "</div>"
      ],
      "text/plain": [
       "                       Name Platform  Year of Release         Genre  NA sales  \\\n",
       "0                Wii Sports      Wii           2006.0        Sports     41.36   \n",
       "1         Super Mario Bros.      NES           1985.0      Platform     29.08   \n",
       "2            Mario Kart Wii      Wii           2008.0        Racing     15.68   \n",
       "3         Wii Sports Resort      Wii           2009.0        Sports     15.61   \n",
       "4  Pokemon Red/Pokemon Blue       GB           1996.0  Role-Playing     11.27   \n",
       "\n",
       "  EU sales JP sales  Other sales  Critic Score User Score Rating  \n",
       "0    28.96     3.77         8.45          76.0          8      E  \n",
       "1     3.58     6.81         0.77           NaN        NaN    NaN  \n",
       "2    12.76     3.79         3.29          82.0        8.3      E  \n",
       "3    10.93     3.28         2.95          80.0          8      E  \n",
       "4     8.89    10.22         1.00           NaN        NaN    NaN  "
      ]
     },
     "execution_count": 9,
     "metadata": {},
     "output_type": "execute_result"
    }
   ],
   "source": [
    "#Выведем первые 5 строк датасета и информацию о нем\n",
    "games.head()"
   ]
  },
  {
   "cell_type": "code",
   "execution_count": 10,
   "id": "92ff375e-4784-472f-9260-575d739d3054",
   "metadata": {},
   "outputs": [
    {
     "name": "stdout",
     "output_type": "stream",
     "text": [
      "<class 'pandas.core.frame.DataFrame'>\n",
      "RangeIndex: 16956 entries, 0 to 16955\n",
      "Data columns (total 11 columns):\n",
      " #   Column           Non-Null Count  Dtype  \n",
      "---  ------           --------------  -----  \n",
      " 0   Name             16954 non-null  object \n",
      " 1   Platform         16956 non-null  object \n",
      " 2   Year of Release  16681 non-null  float64\n",
      " 3   Genre            16954 non-null  object \n",
      " 4   NA sales         16956 non-null  float64\n",
      " 5   EU sales         16956 non-null  object \n",
      " 6   JP sales         16956 non-null  object \n",
      " 7   Other sales      16956 non-null  float64\n",
      " 8   Critic Score     8242 non-null   float64\n",
      " 9   User Score       10152 non-null  object \n",
      " 10  Rating           10085 non-null  object \n",
      "dtypes: float64(4), object(7)\n",
      "memory usage: 1.4+ MB\n"
     ]
    }
   ],
   "source": [
    "games.info()"
   ]
  },
  {
   "cell_type": "markdown",
   "id": "a1cb445c-a05f-4c64-a58a-af80c7ddc002",
   "metadata": {},
   "source": [
    "Датасет `new_games.csv` содержит 10 столбцов и 16956 строк, в которых предоставлена информация о играх, их продажах, оценках и рейтинге.\r\n",
    "\r\n",
    "Изучим типы данных и их корректность:\r\n",
    "\r\n",
    "- **Числовые значения с плавающей точкой(float64).** Данным типом предсавлено четыре столбца:\r\n",
    "    - `Year of Release` содержит информацию о годе выхода игры. Для такой информации рекоммендуется использовать тип `int64`, так как дробной части у года нет, а также понизить разрядность до `int 16`, поскольку значения достаточно малы для этого.\r\n",
    "    - `NA sales`и `Other sales` хранят информацию о продажах в миллионах долларов, поэтому такая информация может содержать дробную часть. Для данных стоблцов тип данных `float64` подходит.\r\n",
    "    - `Critic Score` содержит целочисленные значения оценки от 0 до 100, поэтому для данного столбца рекомендуется тип `int64`. Также для оптимизации рекомендуется понизить разрядность до `int8`, поскольку максимальная оценка не может быть больше 100.\r\n",
    "    \r\n",
    "- **Строковые данные(object).** Данным типом представлено шесть столбцов:\r\n",
    "    - `Name`, `Platform`, `Genre` и `Rating` содержат строковую информацию(название игры, платформу, жанр и рейтинг организации ESRB), что логично для строковых данных. Здесь тип данных `object` подходит.\r\n",
    "    \r\n",
    "    - `EU sales` и `JP sales` хранят информацию о продажах в миллионах долларов, поэтому такая информация хранит числа с дробной частью. Для данных стоблцов рекомендуется использовать тип данных `float64`.\r\n",
    "    - `User Score` хранит информацию об оценках пользователя от 1 до 10 с дробной частью. Для данного столбца рекомендуется использовать тип данных `float64` и понизить разрядность до `float32`\r\n",
    "    \r\n",
    "После анализа видно, что четыре из шести столбцов представлены некорректно. В шести столбцах присутствуют пропуски.\r\n",
    "Также обратим внимание, что названия столбцов прописаны в неудобном для работы в Python виде и их рекомендуется привести к snace case. В названиях столбцов, связанных с продажами, стоит указать, что речь идет о миллионах долларов."
   ]
  },
  {
   "cell_type": "markdown",
   "id": "805e3f21-7826-480c-8b3c-83acd6329ba3",
   "metadata": {},
   "source": [
    "---\n",
    "\n",
    "## 2.  Проверка ошибок в данных и их предобработка\n",
    "\n",
    "\n",
    "### 2.1. Названия, или метки, столбцов датафрейма\n"
   ]
  },
  {
   "cell_type": "markdown",
   "id": "21a495b4-2efc-425b-9632-a504ded06560",
   "metadata": {},
   "source": [
    "Выведем на экран названия всех столбцов датафрейма и приведем их к стилю `snake case`"
   ]
  },
  {
   "cell_type": "code",
   "execution_count": 14,
   "id": "b4fdada7-e4a4-4f71-a0d7-3bb1d16b4725",
   "metadata": {},
   "outputs": [
    {
     "data": {
      "text/plain": [
       "Index(['Name', 'Platform', 'Year of Release', 'Genre', 'NA sales', 'EU sales',\n",
       "       'JP sales', 'Other sales', 'Critic Score', 'User Score', 'Rating'],\n",
       "      dtype='object')"
      ]
     },
     "execution_count": 14,
     "metadata": {},
     "output_type": "execute_result"
    }
   ],
   "source": [
    "#Выведем на экран названия всех столбцов датафрейма\n",
    "games.columns"
   ]
  },
  {
   "cell_type": "code",
   "execution_count": 15,
   "id": "3214c712-912b-403d-bde2-17f9153a5c29",
   "metadata": {},
   "outputs": [],
   "source": [
    "#Приведем все столбцы к стилю snake case. Укажем в столбцах, связанных с продажами, что речь идет о миллионах.\n",
    "games = games.rename(columns = {'Name':'name', 'Platform':'platform', 'Year of Release':'year_of_release', \n",
    "                                'Genre':'genre', 'NA sales':'na_sales_mm', 'EU sales':'eu_sales_mm',\n",
    "                                'JP sales':'jp_sales_mm', 'Other sales':'other_sales_mm', 'Critic Score':'critic_score', \n",
    "                                'User Score':'user_score', 'Rating':'rating'})"
   ]
  },
  {
   "cell_type": "code",
   "execution_count": 16,
   "id": "d7fa63e4-58f3-4f76-b65d-5b9f6fbcfb05",
   "metadata": {},
   "outputs": [
    {
     "data": {
      "text/plain": [
       "Index(['name', 'platform', 'year_of_release', 'genre', 'na_sales_mm',\n",
       "       'eu_sales_mm', 'jp_sales_mm', 'other_sales_mm', 'critic_score',\n",
       "       'user_score', 'rating'],\n",
       "      dtype='object')"
      ]
     },
     "execution_count": 16,
     "metadata": {},
     "output_type": "execute_result"
    }
   ],
   "source": [
    "#Проверим правильность написания столбцов\n",
    "games.columns"
   ]
  },
  {
   "cell_type": "markdown",
   "id": "ab35e306-419f-419d-8607-796fe2b3e065",
   "metadata": {},
   "source": [
    "### 2.2. Преобразование типов данных"
   ]
  },
  {
   "cell_type": "markdown",
   "id": "9642bfb9-75ef-49bc-aa98-ddc12fddac26",
   "metadata": {},
   "source": [
    "Преобразуем тип данных для `year_of_release`, `critic_score`, `user_score`, `eu_sales_mm` и `jp_sales_mm` в `float`. При обнаружении стороковых значений, заменим из на пропуски."
   ]
  },
  {
   "cell_type": "code",
   "execution_count": 19,
   "id": "b08cf641-5451-4538-88a3-b4fcbc88e658",
   "metadata": {},
   "outputs": [],
   "source": [
    "#Преобразуем тип данных для year_of_release, critic_score в integer,  понизив разрядность и заменив строковые значения на пропуски\n",
    "for column in ['year_of_release','critic_score', 'user_score', 'eu_sales_mm','jp_sales_mm' ]:\n",
    "    games[column] = pd.to_numeric(games[column], errors = 'coerce')"
   ]
  },
  {
   "cell_type": "code",
   "execution_count": 20,
   "id": "99465d03-b422-47e0-88c1-16a4d855c6b0",
   "metadata": {},
   "outputs": [],
   "source": [
    "#Приведем user_score к числовому типу данных, понизив разрядность и заменив строковые значения на пропуски.\n",
    "games['user_score'] = pd.to_numeric(games['user_score'], errors = 'coerce', downcast = 'float')"
   ]
  },
  {
   "cell_type": "code",
   "execution_count": 21,
   "id": "2015bd05-4789-4638-99d7-bea7f0e17016",
   "metadata": {},
   "outputs": [],
   "source": [
    "#Преобразуем тип данных для eu_sales_mm и jp_sales_mm в float, понизив разрядность и заменив сттоковые значения на пропуски\n",
    "for column in ['eu_sales_mm','jp_sales_mm']:\n",
    "    games[column] = pd.to_numeric(games[column], errors = 'coerce', downcast='float')"
   ]
  },
  {
   "cell_type": "code",
   "execution_count": 22,
   "id": "e228c56b-7a1e-42a9-b18a-af0dd45f50ac",
   "metadata": {},
   "outputs": [
    {
     "name": "stdout",
     "output_type": "stream",
     "text": [
      "<class 'pandas.core.frame.DataFrame'>\n",
      "RangeIndex: 16956 entries, 0 to 16955\n",
      "Data columns (total 11 columns):\n",
      " #   Column           Non-Null Count  Dtype  \n",
      "---  ------           --------------  -----  \n",
      " 0   name             16954 non-null  object \n",
      " 1   platform         16956 non-null  object \n",
      " 2   year_of_release  16681 non-null  float64\n",
      " 3   genre            16954 non-null  object \n",
      " 4   na_sales_mm      16956 non-null  float64\n",
      " 5   eu_sales_mm      16950 non-null  float32\n",
      " 6   jp_sales_mm      16952 non-null  float32\n",
      " 7   other_sales_mm   16956 non-null  float64\n",
      " 8   critic_score     8242 non-null   float64\n",
      " 9   user_score       7688 non-null   float32\n",
      " 10  rating           10085 non-null  object \n",
      "dtypes: float32(3), float64(4), object(4)\n",
      "memory usage: 1.2+ MB\n"
     ]
    }
   ],
   "source": [
    "#Проверим корректность типов данных\n",
    "games.info()"
   ]
  },
  {
   "cell_type": "markdown",
   "id": "9cad77fa-bf3f-4b03-8eae-0359c4a9f01b",
   "metadata": {},
   "source": [
    "### 2.3. Наличие пропусков в данных"
   ]
  },
  {
   "cell_type": "markdown",
   "id": "c27ac5d7-75f2-4150-a5a6-708a722e24e6",
   "metadata": {},
   "source": [
    "Посчитаем количество и процент строк с пропусками в датафрейме."
   ]
  },
  {
   "cell_type": "code",
   "execution_count": 25,
   "id": "d6eecced-8f68-4545-b25c-4ee0938e1a95",
   "metadata": {},
   "outputs": [
    {
     "data": {
      "text/plain": [
       "name                  2\n",
       "platform              0\n",
       "year_of_release     275\n",
       "genre                 2\n",
       "na_sales_mm           0\n",
       "eu_sales_mm           6\n",
       "jp_sales_mm           4\n",
       "other_sales_mm        0\n",
       "critic_score       8714\n",
       "user_score         9268\n",
       "rating             6871\n",
       "dtype: int64"
      ]
     },
     "execution_count": 25,
     "metadata": {},
     "output_type": "execute_result"
    }
   ],
   "source": [
    "#Посчитаем количество пропусков в каждом столбце в абсолютном и относительном значениях\n",
    "games.isna().sum()"
   ]
  },
  {
   "cell_type": "code",
   "execution_count": 26,
   "id": "cbb37c84-737f-45ce-ab8b-0f3151b7646f",
   "metadata": {},
   "outputs": [
    {
     "data": {
      "text/plain": [
       "name                0.011795\n",
       "platform            0.000000\n",
       "year_of_release     1.621845\n",
       "genre               0.011795\n",
       "na_sales_mm         0.000000\n",
       "eu_sales_mm         0.035386\n",
       "jp_sales_mm         0.023590\n",
       "other_sales_mm      0.000000\n",
       "critic_score       51.391838\n",
       "user_score         54.659118\n",
       "rating             40.522529\n",
       "dtype: float64"
      ]
     },
     "execution_count": 26,
     "metadata": {},
     "output_type": "execute_result"
    }
   ],
   "source": [
    "games.isna().sum() / len(games) * 100"
   ]
  },
  {
   "cell_type": "markdown",
   "id": "ef96d222-8b0c-4df7-91f1-b4b75c829b7d",
   "metadata": {},
   "source": [
    "- В столбце `name` 2 пропуска (чуть больше, чем 0,01%). Данные строки рекомендуется удалить, поскольку их количество незначительно и не повлияет на дальнейший анализ, тогда как отсутствие данных может помешать корректному анализу.\r\n",
    "- В столбце `year_of_release` 275 пропусков, или 1,6%. Поскольку в дальнешем анализе необходимо отобрать определенный срез данных по годам, рекомендуется удалить данные строки с пропусками.\r\n",
    "- В столбце `genre`, также, как и в столбце `name`, 2 пропуска. Можно предположить, что эти пропуски взаимосвязаны(у игры без названия также не указан жанр). Данные строки рекомендуется удалить по той же причине, что и строки в столбце `name`.\r\n",
    "- В столбце `critic_score` 8714 пропусков, это больше 50% всех данных. Такое количество пропусков невозможно удалить и некорректно заполнять средним значением, поэтому заменим пропуски на индикатор -1.\r\n",
    "- В столбце `user_score` 6804 пропуска, чуть больше 40%. Такое большое количество пропусков также нельзя удалить или заполнить средним значением, поэтому заменим пропуски индикатором -1.\r\n",
    "- В столбце `rating` 6871 пропуск, или 40,5%. Данные этого столбца не нужны для дальнейшего анализа, поэтому пропуски нет необходимости обрабаты\n",
    "- В столбцах `eu_sales_mm` и `jp_sales_mm` 6 и 4 пропуска соответственно, это 0,03% и 0,02%. Эти пропуски заменим на среднее в зависимости от года выхода и платформы.вать.\r\n",
    "\r\n",
    "В данном датафрейме большое количество пропусков. Скорее всего, это связано с тем, что данные получили из открытых источников. Часть данных могла быть не представлена в тех источниках, где они были взяты, часть данных могла быть потеряна по техническим пр Также пропуски могут быть у ранних игр или игр, которые выпущены в назнакомом для критиков и пользователей районе (например, японские и не переведенные на английский язык игры).ичинам."
   ]
  },
  {
   "cell_type": "markdown",
   "id": "5a5d9584-ec1e-4edd-9a0a-4e095fc54ee3",
   "metadata": {},
   "source": [
    "Удалим пропуски в столбцах `name`, `year_of_release` и `genre`. Заполним значениями-индексами пропуски в столбцах `critic_score` и `user_score`. В столбцах eu_sales_mm и jp_sales_mm заменим пропуски на среднее в зависимости от года выхода и платформы."
   ]
  },
  {
   "cell_type": "code",
   "execution_count": 29,
   "id": "a5697df6-f265-4760-a3f2-eb79b644aae0",
   "metadata": {},
   "outputs": [],
   "source": [
    "#Удалим пропуски в столбцах name, year_of_release и genre\n",
    "games_cleaned = games.dropna(subset = ['name', 'year_of_release', 'genre'])"
   ]
  },
  {
   "cell_type": "code",
   "execution_count": 30,
   "id": "07636194-f050-472f-a00a-a0c2b335d29a",
   "metadata": {},
   "outputs": [],
   "source": [
    "#Заполним пропуски в столбцах critic_score и user_score\n",
    "games_cleaned = games_cleaned.fillna({'critic_score':-1, 'user_score': -1})"
   ]
  },
  {
   "cell_type": "code",
   "execution_count": 31,
   "id": "413a25fc-1fdd-45ff-b228-df4e7b258aed",
   "metadata": {},
   "outputs": [],
   "source": [
    "#Заменим пропуски в eu_sales_mm и jp_sales_mm на среднее значение в зависимости от названия платформы и года выхода игры\n",
    "def mean_eu_sales(row):\n",
    "    if pd.isna(row['eu_sales_mm']):\n",
    "        group = games_cleaned[(games_cleaned['year_of_release'] == row['year_of_release']) & \n",
    "               (games_cleaned['platform'] == row['platform'])]\n",
    "        return group['eu_sales_mm'].mean()\n",
    "    else:\n",
    "        return row['eu_sales_mm']\n",
    "    \n",
    "games_cleaned['eu_sales_mm'] = games_cleaned.apply(mean_eu_sales, axis=1)"
   ]
  },
  {
   "cell_type": "code",
   "execution_count": 32,
   "id": "98f746a2-9ce5-4497-8760-515792272eb8",
   "metadata": {},
   "outputs": [],
   "source": [
    "def mean_jp_sales(row):\n",
    "    if pd.isna(row['jp_sales_mm']):\n",
    "        group = games_cleaned[(games_cleaned['year_of_release'] == row['year_of_release']) & \n",
    "               (games_cleaned['platform'] == row['platform'])]\n",
    "        return group['jp_sales_mm'].mean()\n",
    "    else:\n",
    "        return row['jp_sales_mm']\n",
    "    \n",
    "games_cleaned['jp_sales_mm'] = games_cleaned.apply(mean_jp_sales, axis=1)"
   ]
  },
  {
   "cell_type": "markdown",
   "id": "b656322d-178c-405e-a313-5ac1cdfa7871",
   "metadata": {},
   "source": [
    "Приведем `year_of_release` и `cricic_score` к `integer`, понизив разрядность."
   ]
  },
  {
   "cell_type": "code",
   "execution_count": 34,
   "id": "395a8b02-32c6-4eee-8805-f584aa3cf565",
   "metadata": {},
   "outputs": [],
   "source": [
    "#Преобразуем тип данных для year_of_release, critic_score в integer,  понизив разрядность\n",
    "for column in ['year_of_release','critic_score']:\n",
    "    games_cleaned[column] = pd.to_numeric(games_cleaned[column], downcast='integer')"
   ]
  },
  {
   "cell_type": "code",
   "execution_count": 35,
   "id": "1bd9b8a4-d74c-42b8-9900-e4cb02928a25",
   "metadata": {},
   "outputs": [
    {
     "name": "stdout",
     "output_type": "stream",
     "text": [
      "<class 'pandas.core.frame.DataFrame'>\n",
      "Index: 16679 entries, 0 to 16955\n",
      "Data columns (total 11 columns):\n",
      " #   Column           Non-Null Count  Dtype  \n",
      "---  ------           --------------  -----  \n",
      " 0   name             16679 non-null  object \n",
      " 1   platform         16679 non-null  object \n",
      " 2   year_of_release  16679 non-null  int16  \n",
      " 3   genre            16679 non-null  object \n",
      " 4   na_sales_mm      16679 non-null  float64\n",
      " 5   eu_sales_mm      16679 non-null  float64\n",
      " 6   jp_sales_mm      16679 non-null  float64\n",
      " 7   other_sales_mm   16679 non-null  float64\n",
      " 8   critic_score     16679 non-null  int8   \n",
      " 9   user_score       16679 non-null  float32\n",
      " 10  rating           9901 non-null   object \n",
      "dtypes: float32(1), float64(4), int16(1), int8(1), object(4)\n",
      "memory usage: 1.3+ MB\n"
     ]
    }
   ],
   "source": [
    "#Проверим отсутствие пропусков и корректность типов данных.\n",
    "games_cleaned.info()"
   ]
  },
  {
   "cell_type": "markdown",
   "id": "0252a83a-af86-44e1-9f08-8c5ea14e04f8",
   "metadata": {},
   "source": [
    "### 2.4. Явные и неявные дубликаты в данных\n",
    "\n"
   ]
  },
  {
   "cell_type": "markdown",
   "id": "8024fe50-ee08-4ec0-8cda-9bcd752e6278",
   "metadata": {},
   "source": [
    "Нормализуем данные в столбцах `genre`, `platform` и `rating`. Проверим столбцы `genre`, `platform`, `rating` и `year_of_release` на неявные дубликаты."
   ]
  },
  {
   "cell_type": "code",
   "execution_count": 38,
   "id": "fd41fcfd-9cc1-440d-b5da-cb2c1361931a",
   "metadata": {},
   "outputs": [],
   "source": [
    "#Приведем столбец genre к нижнему регистру\n",
    "games_cleaned['genre'] = games_cleaned['genre'].str.lower()"
   ]
  },
  {
   "cell_type": "code",
   "execution_count": 39,
   "id": "1ad31e7a-2cca-471d-ab3e-997caff48a18",
   "metadata": {},
   "outputs": [
    {
     "data": {
      "text/plain": [
       "array(['sports', 'platform', 'racing', 'role-playing', 'puzzle', 'misc',\n",
       "       'shooter', 'simulation', 'action', 'fighting', 'adventure',\n",
       "       'strategy'], dtype=object)"
      ]
     },
     "execution_count": 39,
     "metadata": {},
     "output_type": "execute_result"
    }
   ],
   "source": [
    "#Проверим столбец genre на наличие неявных дубликатов\n",
    "unique_genre = games_cleaned['genre'].unique()\n",
    "unique_genre "
   ]
  },
  {
   "cell_type": "code",
   "execution_count": 40,
   "id": "19bef7eb-f3e2-4030-ae70-538b33406974",
   "metadata": {},
   "outputs": [],
   "source": [
    "#Приведем столбец platform к нижнему регистру\n",
    "games_cleaned['platform'] = games_cleaned['platform'].str.lower()"
   ]
  },
  {
   "cell_type": "code",
   "execution_count": 41,
   "id": "346dd398-ae3a-4ac2-ae55-7dfdac5003aa",
   "metadata": {},
   "outputs": [
    {
     "data": {
      "text/plain": [
       "array(['wii', 'nes', 'gb', 'ds', 'x360', 'ps3', 'ps2', 'snes', 'gba',\n",
       "       'ps4', '3ds', 'n64', 'ps', 'xb', 'pc', '2600', 'psp', 'xone',\n",
       "       'wiiu', 'gc', 'gen', 'dc', 'psv', 'sat', 'scd', 'ws', 'ng', 'tg16',\n",
       "       '3do', 'gg', 'pcfx'], dtype=object)"
      ]
     },
     "execution_count": 41,
     "metadata": {},
     "output_type": "execute_result"
    }
   ],
   "source": [
    "#Проверим столбец platform на наличие неявных дубликатов\n",
    "unique_platform = games_cleaned['platform'].unique()\n",
    "unique_platform"
   ]
  },
  {
   "cell_type": "code",
   "execution_count": 42,
   "id": "63b97009-5c5c-412d-b94d-f4127fcc97e4",
   "metadata": {},
   "outputs": [
    {
     "data": {
      "text/plain": [
       "array(['E', nan, 'M', 'T', 'E10+', 'K-A', 'AO', 'EC', 'RP'], dtype=object)"
      ]
     },
     "execution_count": 42,
     "metadata": {},
     "output_type": "execute_result"
    }
   ],
   "source": [
    "#Приведем столбец rating к верхнему регистру\n",
    "games_cleaned['rating'] = games_cleaned['rating'].str.upper()\n",
    "#Проверим столбец rating на наличие неявных дубликатов\n",
    "unique_rating = games_cleaned['rating'].unique()\n",
    "unique_rating"
   ]
  },
  {
   "cell_type": "markdown",
   "id": "b5d85a09-8fb3-449d-a99f-b115b5a14635",
   "metadata": {},
   "source": [
    "В столбце `rating` заменим значение `K-A` на `E`, так как это сходные категории в разных обозначениях."
   ]
  },
  {
   "cell_type": "code",
   "execution_count": 44,
   "id": "2d0c9cee-eef0-4cd3-9df6-710eeed06c3e",
   "metadata": {},
   "outputs": [],
   "source": [
    "#Заменим в столбце rating значение K-A на E\n",
    "games_cleaned['rating'] = games_cleaned['rating'].replace('K-A', 'E')\n"
   ]
  },
  {
   "cell_type": "markdown",
   "id": "1c669173-09f2-48f0-925b-a00697c3af23",
   "metadata": {},
   "source": [
    " <div class=\"alert alert-warning\">\n",
    "<h2> Комментарий ревьюера <a class=\"tocSkip\"> </h2>\n",
    "    \n",
    "<b>Некоторые замечания и рекомендации💡:</b> \n",
    "\n",
    "Здесь хитрая ситуация. У нас есть игры как из Европы, так и из Азии. В основном используется рейтинг ESRB https://ru.wikipedia.org/wiki/Entertainment_Software_Rating_Board \n",
    "    \n",
    "Но некоторых категорий из представленных у нас в нем нет. Фактически, это сходные категории, но в другом обозначении.\n",
    "    \n",
    "Например, можно заменить значения 'К-А' на 'Е'.\n",
    "    \n",
    "Рекомендую в подобных случаях уточнять информацию в интернете (в реальных проектах на реальной работе также, ну и можно всегда спрашивать у коллег, особенно у тех, кто предоставил данные. Часто такие категории объясняются в паспорте данных. Ну в нашем случае нужно залезть в интернет). \n"
   ]
  },
  {
   "cell_type": "code",
   "execution_count": 46,
   "id": "0acf2fee-e9eb-4725-a2dd-8b1b1f4c17c8",
   "metadata": {},
   "outputs": [
    {
     "data": {
      "text/plain": [
       "array([2006, 1985, 2008, 2009, 1996, 1989, 1984, 2005, 1999, 2007, 2010,\n",
       "       2013, 2004, 1990, 1988, 2002, 2001, 2011, 1998, 2015, 2012, 2014,\n",
       "       1992, 1997, 1993, 1994, 1982, 2016, 2003, 1986, 2000, 1995, 1991,\n",
       "       1981, 1987, 1980, 1983], dtype=int16)"
      ]
     },
     "execution_count": 46,
     "metadata": {},
     "output_type": "execute_result"
    }
   ],
   "source": [
    "#Проверим столбец year_of_release на наличие неявных дубликатов\n",
    "unique_year = games_cleaned['year_of_release'].unique()\n",
    "unique_year"
   ]
  },
  {
   "cell_type": "markdown",
   "id": "700e2135-385f-44d7-ada3-aa3b4ff96e2c",
   "metadata": {},
   "source": [
    "Проверим данные датафрейма на наличие явных дубликатов. Найдем сумму дубликатов, выведем дубликаты на экран и удалим все дубликаты."
   ]
  },
  {
   "cell_type": "code",
   "execution_count": 48,
   "id": "c301431a-ddbe-4560-99ab-5be9d0d40d10",
   "metadata": {},
   "outputs": [
    {
     "data": {
      "text/plain": [
       "235"
      ]
     },
     "execution_count": 48,
     "metadata": {},
     "output_type": "execute_result"
    }
   ],
   "source": [
    "#Найдем сумму дубликатов в датафрейме\n",
    "games_cleaned.duplicated(keep='last').sum()"
   ]
  },
  {
   "cell_type": "code",
   "execution_count": 49,
   "id": "280d6165-2c58-4406-b12e-8d47b4326b83",
   "metadata": {},
   "outputs": [
    {
     "data": {
      "text/html": [
       "<div>\n",
       "<style scoped>\n",
       "    .dataframe tbody tr th:only-of-type {\n",
       "        vertical-align: middle;\n",
       "    }\n",
       "\n",
       "    .dataframe tbody tr th {\n",
       "        vertical-align: top;\n",
       "    }\n",
       "\n",
       "    .dataframe thead th {\n",
       "        text-align: right;\n",
       "    }\n",
       "</style>\n",
       "<table border=\"1\" class=\"dataframe\">\n",
       "  <thead>\n",
       "    <tr style=\"text-align: right;\">\n",
       "      <th></th>\n",
       "      <th>name</th>\n",
       "      <th>platform</th>\n",
       "      <th>year_of_release</th>\n",
       "      <th>genre</th>\n",
       "      <th>na_sales_mm</th>\n",
       "      <th>eu_sales_mm</th>\n",
       "      <th>jp_sales_mm</th>\n",
       "      <th>other_sales_mm</th>\n",
       "      <th>critic_score</th>\n",
       "      <th>user_score</th>\n",
       "      <th>rating</th>\n",
       "    </tr>\n",
       "  </thead>\n",
       "  <tbody>\n",
       "    <tr>\n",
       "      <th>267</th>\n",
       "      <td>Batman: Arkham Asylum</td>\n",
       "      <td>ps3</td>\n",
       "      <td>2009</td>\n",
       "      <td>action</td>\n",
       "      <td>2.24</td>\n",
       "      <td>1.31</td>\n",
       "      <td>0.07</td>\n",
       "      <td>0.61</td>\n",
       "      <td>91</td>\n",
       "      <td>8.9</td>\n",
       "      <td>T</td>\n",
       "    </tr>\n",
       "    <tr>\n",
       "      <th>268</th>\n",
       "      <td>Batman: Arkham Asylum</td>\n",
       "      <td>ps3</td>\n",
       "      <td>2009</td>\n",
       "      <td>action</td>\n",
       "      <td>2.24</td>\n",
       "      <td>1.31</td>\n",
       "      <td>0.07</td>\n",
       "      <td>0.61</td>\n",
       "      <td>91</td>\n",
       "      <td>8.9</td>\n",
       "      <td>T</td>\n",
       "    </tr>\n",
       "    <tr>\n",
       "      <th>367</th>\n",
       "      <td>James Bond 007: Agent Under Fire</td>\n",
       "      <td>ps2</td>\n",
       "      <td>2001</td>\n",
       "      <td>shooter</td>\n",
       "      <td>1.90</td>\n",
       "      <td>1.13</td>\n",
       "      <td>0.10</td>\n",
       "      <td>0.41</td>\n",
       "      <td>72</td>\n",
       "      <td>7.9</td>\n",
       "      <td>T</td>\n",
       "    </tr>\n",
       "    <tr>\n",
       "      <th>368</th>\n",
       "      <td>James Bond 007: Agent Under Fire</td>\n",
       "      <td>ps2</td>\n",
       "      <td>2001</td>\n",
       "      <td>shooter</td>\n",
       "      <td>1.90</td>\n",
       "      <td>1.13</td>\n",
       "      <td>0.10</td>\n",
       "      <td>0.41</td>\n",
       "      <td>72</td>\n",
       "      <td>7.9</td>\n",
       "      <td>T</td>\n",
       "    </tr>\n",
       "    <tr>\n",
       "      <th>716</th>\n",
       "      <td>God of War: Ascension</td>\n",
       "      <td>ps3</td>\n",
       "      <td>2013</td>\n",
       "      <td>action</td>\n",
       "      <td>1.23</td>\n",
       "      <td>0.63</td>\n",
       "      <td>0.04</td>\n",
       "      <td>0.35</td>\n",
       "      <td>80</td>\n",
       "      <td>7.5</td>\n",
       "      <td>M</td>\n",
       "    </tr>\n",
       "    <tr>\n",
       "      <th>...</th>\n",
       "      <td>...</td>\n",
       "      <td>...</td>\n",
       "      <td>...</td>\n",
       "      <td>...</td>\n",
       "      <td>...</td>\n",
       "      <td>...</td>\n",
       "      <td>...</td>\n",
       "      <td>...</td>\n",
       "      <td>...</td>\n",
       "      <td>...</td>\n",
       "      <td>...</td>\n",
       "    </tr>\n",
       "    <tr>\n",
       "      <th>16799</th>\n",
       "      <td>Transformers: Prime</td>\n",
       "      <td>wii</td>\n",
       "      <td>2012</td>\n",
       "      <td>action</td>\n",
       "      <td>0.00</td>\n",
       "      <td>0.01</td>\n",
       "      <td>0.00</td>\n",
       "      <td>0.00</td>\n",
       "      <td>-1</td>\n",
       "      <td>-1.0</td>\n",
       "      <td>NaN</td>\n",
       "    </tr>\n",
       "    <tr>\n",
       "      <th>16911</th>\n",
       "      <td>Metal Gear Solid V: The Definitive Experience</td>\n",
       "      <td>xone</td>\n",
       "      <td>2016</td>\n",
       "      <td>action</td>\n",
       "      <td>0.01</td>\n",
       "      <td>0.00</td>\n",
       "      <td>0.00</td>\n",
       "      <td>0.00</td>\n",
       "      <td>-1</td>\n",
       "      <td>-1.0</td>\n",
       "      <td>M</td>\n",
       "    </tr>\n",
       "    <tr>\n",
       "      <th>16912</th>\n",
       "      <td>Metal Gear Solid V: The Definitive Experience</td>\n",
       "      <td>xone</td>\n",
       "      <td>2016</td>\n",
       "      <td>action</td>\n",
       "      <td>0.01</td>\n",
       "      <td>0.00</td>\n",
       "      <td>0.00</td>\n",
       "      <td>0.00</td>\n",
       "      <td>-1</td>\n",
       "      <td>-1.0</td>\n",
       "      <td>M</td>\n",
       "    </tr>\n",
       "    <tr>\n",
       "      <th>16939</th>\n",
       "      <td>The Longest 5 Minutes</td>\n",
       "      <td>psv</td>\n",
       "      <td>2016</td>\n",
       "      <td>action</td>\n",
       "      <td>0.00</td>\n",
       "      <td>0.00</td>\n",
       "      <td>0.01</td>\n",
       "      <td>0.00</td>\n",
       "      <td>-1</td>\n",
       "      <td>-1.0</td>\n",
       "      <td>NaN</td>\n",
       "    </tr>\n",
       "    <tr>\n",
       "      <th>16940</th>\n",
       "      <td>The Longest 5 Minutes</td>\n",
       "      <td>psv</td>\n",
       "      <td>2016</td>\n",
       "      <td>action</td>\n",
       "      <td>0.00</td>\n",
       "      <td>0.00</td>\n",
       "      <td>0.01</td>\n",
       "      <td>0.00</td>\n",
       "      <td>-1</td>\n",
       "      <td>-1.0</td>\n",
       "      <td>NaN</td>\n",
       "    </tr>\n",
       "  </tbody>\n",
       "</table>\n",
       "<p>470 rows × 11 columns</p>\n",
       "</div>"
      ],
      "text/plain": [
       "                                                name platform  \\\n",
       "267                            Batman: Arkham Asylum      ps3   \n",
       "268                            Batman: Arkham Asylum      ps3   \n",
       "367                 James Bond 007: Agent Under Fire      ps2   \n",
       "368                 James Bond 007: Agent Under Fire      ps2   \n",
       "716                            God of War: Ascension      ps3   \n",
       "...                                              ...      ...   \n",
       "16799                            Transformers: Prime      wii   \n",
       "16911  Metal Gear Solid V: The Definitive Experience     xone   \n",
       "16912  Metal Gear Solid V: The Definitive Experience     xone   \n",
       "16939                          The Longest 5 Minutes      psv   \n",
       "16940                          The Longest 5 Minutes      psv   \n",
       "\n",
       "       year_of_release    genre  na_sales_mm  eu_sales_mm  jp_sales_mm  \\\n",
       "267               2009   action         2.24         1.31         0.07   \n",
       "268               2009   action         2.24         1.31         0.07   \n",
       "367               2001  shooter         1.90         1.13         0.10   \n",
       "368               2001  shooter         1.90         1.13         0.10   \n",
       "716               2013   action         1.23         0.63         0.04   \n",
       "...                ...      ...          ...          ...          ...   \n",
       "16799             2012   action         0.00         0.01         0.00   \n",
       "16911             2016   action         0.01         0.00         0.00   \n",
       "16912             2016   action         0.01         0.00         0.00   \n",
       "16939             2016   action         0.00         0.00         0.01   \n",
       "16940             2016   action         0.00         0.00         0.01   \n",
       "\n",
       "       other_sales_mm  critic_score  user_score rating  \n",
       "267              0.61            91         8.9      T  \n",
       "268              0.61            91         8.9      T  \n",
       "367              0.41            72         7.9      T  \n",
       "368              0.41            72         7.9      T  \n",
       "716              0.35            80         7.5      M  \n",
       "...               ...           ...         ...    ...  \n",
       "16799            0.00            -1        -1.0    NaN  \n",
       "16911            0.00            -1        -1.0      M  \n",
       "16912            0.00            -1        -1.0      M  \n",
       "16939            0.00            -1        -1.0    NaN  \n",
       "16940            0.00            -1        -1.0    NaN  \n",
       "\n",
       "[470 rows x 11 columns]"
      ]
     },
     "execution_count": 49,
     "metadata": {},
     "output_type": "execute_result"
    }
   ],
   "source": [
    "#Выведем дубликаты на экран\n",
    "duplicates = games_cleaned[games_cleaned.duplicated(keep=False)]\n",
    "duplicates"
   ]
  },
  {
   "cell_type": "code",
   "execution_count": 50,
   "id": "73672d8b-09cc-4f21-a379-8ecbe84d3de3",
   "metadata": {},
   "outputs": [],
   "source": [
    "#Создадим датафрейм, очищенный от дубликатов\n",
    "games_no_duplicates = games_cleaned.drop_duplicates()"
   ]
  },
  {
   "cell_type": "markdown",
   "id": "969795c7-4dfd-42e2-9c7c-73310083f24b",
   "metadata": {},
   "source": [
    "В результате изучения данных на наличие дубликатов было обнаружено:\n",
    "* Неявные дубликаты были обнаружены в столбце rating и исправлены.\n",
    "* Явных дубликатов обнаружено 235, они были удалены."
   ]
  },
  {
   "cell_type": "markdown",
   "id": "9a906b8a-43ec-4e5d-8eb4-6f74965789d6",
   "metadata": {},
   "source": [
    "Посчитаем количество удаленных строк в абсолютном и относительном значении."
   ]
  },
  {
   "cell_type": "code",
   "execution_count": 53,
   "id": "cf666769-7d69-4b1b-a191-c24079dba29f",
   "metadata": {},
   "outputs": [
    {
     "data": {
      "text/plain": [
       "512"
      ]
     },
     "execution_count": 53,
     "metadata": {},
     "output_type": "execute_result"
    }
   ],
   "source": [
    "#Посчитаем количество удаленных строк в абсолютном значении\n",
    "deleted_rows = games.shape[0] - games_no_duplicates.shape[0]\n",
    "deleted_rows"
   ]
  },
  {
   "cell_type": "code",
   "execution_count": 54,
   "id": "729994be-10b0-4d0a-b77f-dd350195c42a",
   "metadata": {},
   "outputs": [
    {
     "data": {
      "text/plain": [
       "3.019580089643784"
      ]
     },
     "execution_count": 54,
     "metadata": {},
     "output_type": "execute_result"
    }
   ],
   "source": [
    "#Посчитаем количество удаленных строк в относительном значении\n",
    "deleted_rows_pers = deleted_rows / games.shape[0] * 100\n",
    "deleted_rows_pers"
   ]
  },
  {
   "cell_type": "markdown",
   "id": "08e8287a-2435-4cef-bc22-42ac5a9c12fc",
   "metadata": {},
   "source": [
    "Для оптимизации работы с данными в датафрейме были сделаны такие изменения типов данных:\n",
    "- `year_of_release`: тип данных изменён с `float64` на `int16`.\n",
    "- `critic_score`: тип данных изменён с `float64` на `int8`.\n",
    "- `eu_sales_mm` и `jp_sales_mm`: тип данных изменён с `object` на `float64`.\n",
    "- `user_score`: тип данных изменён с `object` на `float32`.\n",
    "\n",
    "Для нормализации данных `genre` и `platform` были приведены к нижнему регистру, `rating` к верхнему.\n",
    "Были обнаружены и приведены к общему виду неявные дубликаты в столбце `rating`.\n",
    "Явных дубликатов обнаружено 235, они были удалены.\n",
    "Всего при предобработке данных было удалено 512 строк, чуть больше 3% от общего объема датафрейма"
   ]
  },
  {
   "cell_type": "markdown",
   "id": "49717b20-f42b-4a34-af2b-b3f7a9da8c79",
   "metadata": {},
   "source": [
    "## 3. Фильтрация данных"
   ]
  },
  {
   "cell_type": "markdown",
   "id": "ae38b054-6784-4a86-b038-f1a094a1dbcb",
   "metadata": {},
   "source": [
    "Отберем данные за период с 2000 по 2013 год включительно и сохраним новый срез данных в датафрейме games_actual"
   ]
  },
  {
   "cell_type": "code",
   "execution_count": 58,
   "id": "790c8f09-29b4-470c-af87-c0184617913e",
   "metadata": {},
   "outputs": [],
   "source": [
    "#Отберем данные за период с 2000 по 2013 год включительно и сохраним новый срез данных в датафрейме games_actual\n",
    "games_actual = games_no_duplicates[(games_no_duplicates['year_of_release']) >= 2000 & \n",
    "                                   (games_no_duplicates['year_of_release'] <= 2013)]"
   ]
  },
  {
   "cell_type": "markdown",
   "id": "423d41cb-d7d1-4c2a-9667-17332d235b1b",
   "metadata": {},
   "source": [
    "## 4. Категоризация данных"
   ]
  },
  {
   "cell_type": "markdown",
   "id": "fb69a59f-ab3c-4570-a9a8-32ffd07c550a",
   "metadata": {},
   "source": [
    "Разделим все игры по оценкам пользователей и выделим такие категории: высокая оценка (от 8 до 10 включительно), средняя оценка (от 3 до 8, не включая правую границу интервала) и низкая оценка (от 0 до 3, не включая правую границу интервала). Заменим значения NaN на неизвестная категория для строк со значением-индикатором."
   ]
  },
  {
   "cell_type": "code",
   "execution_count": 61,
   "id": "8e2fbcec-474d-46b3-885c-5530b92947e6",
   "metadata": {},
   "outputs": [],
   "source": [
    "# Разделим все игры по оценкам пользователей и выделим такие категории: высокая оценка (от 8 до 10 включительно), \n",
    "#средняя оценка (от 3 до 8, не включая правую границу интервала) и \n",
    "#низкая оценка (от 0 до 3, не включая правую границу интервала).\n",
    "games_actual['user_score_category'] = pd.cut(games_actual['user_score'], bins = [0, 3, 8, 10], \n",
    "                                             labels = ['Низкая оценка', 'Средняя оценка','Высокая оценка'], right = False)"
   ]
  },
  {
   "cell_type": "code",
   "execution_count": 62,
   "id": "327267bb-5a23-43da-ad34-03f1d559f79f",
   "metadata": {},
   "outputs": [],
   "source": [
    "#Заменяем значения NaN на неизвестная категория для строк со значением-индикатором\n",
    "games_actual['user_score_category'] = games_actual['user_score_category'].cat.add_categories('неизвестная категория').fillna('неизвестная категория')"
   ]
  },
  {
   "cell_type": "markdown",
   "id": "6779e4c9-75ca-4f0e-a3ce-abfea9a2e9d5",
   "metadata": {},
   "source": [
    "Разделим все игры по оценкам критиков и выделим такие категории: высокая оценка (от 80 до 100 включительно), средняя оценка (от 30 до 80, не включая правую границу интервала) и низкая оценка (от 0 до 30, не включая правую границу интервала). Заменим значения NaN на неизвестная категория для строк со значением-индикатором."
   ]
  },
  {
   "cell_type": "code",
   "execution_count": 64,
   "id": "469c685d-6563-432c-b1a4-e1b515c491fd",
   "metadata": {},
   "outputs": [],
   "source": [
    "# Разделим все игры по оценкам критиков и выделим такие категории: высокая оценка (от 80 до 100 включительно), \n",
    "#средняя оценка (от 30 до 80, не включая правую границу интервала) и \n",
    "#низкая оценка (от 0 до 30, не включая правую границу интервала).\n",
    "games_actual['critic_score_category'] = pd.cut(games_actual['critic_score'], bins = [0, 30, 80, 100], \n",
    "                                             labels = ['Низкая оценка', 'Средняя оценка','Высокая оценка'], right = False)"
   ]
  },
  {
   "cell_type": "code",
   "execution_count": 65,
   "id": "1289b06b-8279-4584-ae76-fdeff29d3edb",
   "metadata": {},
   "outputs": [],
   "source": [
    "#Заменяем значения NaN на неизвестная категория для строк со значением-индикатором\n",
    "games_actual['critic_score_category'] = games_actual['critic_score_category'].cat.add_categories('неизвестная категория').fillna('неизвестная категория')"
   ]
  },
  {
   "cell_type": "markdown",
   "id": "efb52353-e563-4437-9117-ca085065f949",
   "metadata": {},
   "source": [
    "- После категоризации данных проверим результат: сгруппируем данные по выделенным категориям и посчитаем количество игр в каждой категории."
   ]
  },
  {
   "cell_type": "code",
   "execution_count": 67,
   "id": "8e980b61-7275-42c1-9cf9-6961c26bad97",
   "metadata": {},
   "outputs": [
    {
     "name": "stderr",
     "output_type": "stream",
     "text": [
      "C:\\Users\\stargirl\\AppData\\Local\\Temp\\ipykernel_22844\\433287156.py:2: FutureWarning: The default of observed=False is deprecated and will be changed to True in a future version of pandas. Pass observed=False to retain current behavior or observed=True to adopt the future default and silence this warning.\n",
      "  grouped_by_user = games_actual.groupby('user_score_category')['name'].count()\n"
     ]
    },
    {
     "data": {
      "text/plain": [
       "user_score_category\n",
       "Низкая оценка             142\n",
       "Средняя оценка           4777\n",
       "Высокая оценка           2544\n",
       "неизвестная категория    8981\n",
       "Name: name, dtype: int64"
      ]
     },
     "execution_count": 67,
     "metadata": {},
     "output_type": "execute_result"
    }
   ],
   "source": [
    "#Сгруппируем данные по оценкам пользователей и посчитаем количество игр в каждой категории\n",
    "grouped_by_user = games_actual.groupby('user_score_category')['name'].count()\n",
    "grouped_by_user"
   ]
  },
  {
   "cell_type": "code",
   "execution_count": 68,
   "id": "19d67e7b-c027-45f5-a056-c1138ed9992f",
   "metadata": {},
   "outputs": [
    {
     "name": "stderr",
     "output_type": "stream",
     "text": [
      "C:\\Users\\stargirl\\AppData\\Local\\Temp\\ipykernel_22844\\1014004771.py:2: FutureWarning: The default of observed=False is deprecated and will be changed to True in a future version of pandas. Pass observed=False to retain current behavior or observed=True to adopt the future default and silence this warning.\n",
      "  grouped_by_critic = games_actual.groupby('critic_score_category')['name'].count()\n"
     ]
    },
    {
     "data": {
      "text/plain": [
       "critic_score_category\n",
       "Низкая оценка              59\n",
       "Средняя оценка           5945\n",
       "Высокая оценка           1979\n",
       "неизвестная категория    8461\n",
       "Name: name, dtype: int64"
      ]
     },
     "execution_count": 68,
     "metadata": {},
     "output_type": "execute_result"
    }
   ],
   "source": [
    "#Сгруппируем данные по оценкам критиков и посчитаем количество игр в каждой категории\n",
    "grouped_by_critic = games_actual.groupby('critic_score_category')['name'].count()\n",
    "grouped_by_critic"
   ]
  },
  {
   "cell_type": "markdown",
   "id": "01f68c96-9e61-482d-b225-9d5e2f4aa769",
   "metadata": {},
   "source": [
    "- Выделим топ-7 платформ по количеству игр, выпущенных за весь актуальный период. Для этого сгруппируем данные по названию платформ и отсортируем значения по убыванию количества игр. После этого выведем первые семь значений.1"
   ]
  },
  {
   "cell_type": "code",
   "execution_count": 70,
   "id": "df0a416c-b352-408c-b812-482456991dc6",
   "metadata": {},
   "outputs": [],
   "source": [
    "#Сгруппируем данные по названиям платформ и и посчитаем количество игр для каждой платформы\n",
    "grouped_by_platform = games_actual.groupby('platform')['name'].count()"
   ]
  },
  {
   "cell_type": "code",
   "execution_count": 71,
   "id": "01ea9d86-7259-4051-9a95-bada97a03682",
   "metadata": {},
   "outputs": [
    {
     "data": {
      "text/plain": [
       "platform\n",
       "2600     116\n",
       "3do        3\n",
       "3ds      512\n",
       "dc        52\n",
       "ds      2121\n",
       "gb        97\n",
       "gba      811\n",
       "Name: name, dtype: int64"
      ]
     },
     "execution_count": 71,
     "metadata": {},
     "output_type": "execute_result"
    }
   ],
   "source": [
    "#Отсортируем значения по убыванию количества игр\n",
    "grouped_by_platform.sort_values( ascending = False)\n",
    "grouped_by_platform.head(7)"
   ]
  },
  {
   "cell_type": "markdown",
   "id": "471df8be-84be-42e9-993c-012bb33d83e7",
   "metadata": {},
   "source": [
    "## 5. Итоговый вывод\n"
   ]
  },
  {
   "cell_type": "markdown",
   "id": "0b296877-3e26-4614-99a3-73220c4265e6",
   "metadata": {},
   "source": [
    "Были загружены данные `new_games.csv`. Они содержат 10 столбцов и 16956 строк, в которых предоставлена информация о играх, их продажах, оценках и рейтинге. При первичном знакомстве с денным и их предобработкой были получены такие результаты:\n",
    "- Названия всех столбцов для удобства были приведены к `snake case`.\n",
    "- В восьми столбцах (`name`, `year_of_release`, `genre`, `critic_score`, `user_score`, `eu_sales_mm`, `jp_sales_mm`) были обнаружены пропуски. Для столбцов `name`, `year_of_release` и `genre` строки с пропусками были удалены. Для столбцов `critic_score` и `user_score` пропуски были заменены на значения-индексы -1. Для столбцов `eu_sales_mm` и `jp_sales_mm` пропуски были заменены на среднее значение в зависимости от платформы и года выхода игры. \n",
    "- Были обработаны и удалены явные дубликаты. Были обработаны и приведены к общему виду неяные дубликаты.\n",
    "- Всего было удалено 512 строк, это около 3% от общего объема данных.\n",
    "- Для оптимизации работы с данными в датафрейме были произведены следующие изменения типов данных:\n",
    "  -  `year_of_release`, `critic_score`: тип данных изменен с `float64` на `int16`.\n",
    "  -  `user_score`: тип данных изменен с `float64` на `int16`.\n",
    "  -  `eu_sales_mm` и `jp_sales_mm`:тип данных изменен с `object` на `float32`.\n",
    "- Для дополнительной работы был выделен срез данных за период с 2000 по 2013 год. Также были созданы столбцы `user_score_category` и `critic_score_category` с категоризацией оценок пользователей и критиков. \n",
    "- Были созданы Series:\n",
    "  -  `grouped_by_user` с количеством игр для каждой категории рейтинга пользователей.\n",
    "  -  `grouped_by_critic` с количеством игр для каждой категории рейтинга критиков.\n",
    "  -  `grouped_by_platform` с топ-7 платформ по количеству игр."
   ]
  },
  {
   "cell_type": "code",
   "execution_count": null,
   "id": "3a71c595-eff7-411d-8392-0be0645c9d5d",
   "metadata": {},
   "outputs": [],
   "source": []
  }
 ],
 "metadata": {
  "kernelspec": {
   "display_name": "Python [conda env:base] *",
   "language": "python",
   "name": "conda-base-py"
  },
  "language_info": {
   "codemirror_mode": {
    "name": "ipython",
    "version": 3
   },
   "file_extension": ".py",
   "mimetype": "text/x-python",
   "name": "python",
   "nbconvert_exporter": "python",
   "pygments_lexer": "ipython3",
   "version": "3.12.4"
  }
 },
 "nbformat": 4,
 "nbformat_minor": 5
}
